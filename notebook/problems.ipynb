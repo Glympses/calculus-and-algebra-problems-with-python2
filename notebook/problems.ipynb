{
 "cells": [
  {
   "cell_type": "markdown",
   "id": "5dbe7b9e",
   "metadata": {},
   "source": [
    "# Calculus and Algebra problems"
   ]
  },
  {
   "cell_type": "markdown",
   "id": "519c4b12",
   "metadata": {},
   "source": [
    "## Calculus\n",
    "\n",
    "Calculus is not obscure. It is the language for modeling behaviors. Calculus enables us to find the rate of changes in order to optimize a function. Without calculus, we would not be able to fully understand techniques such as:\n",
    "\n",
    "Backpropagation in neural networks\n",
    "\n",
    "Regression using optimal least square\n",
    "\n",
    "Expectation maximization in fitting probability models"
   ]
  },
  {
   "cell_type": "markdown",
   "id": "b7e2e87a",
   "metadata": {},
   "source": [
    "### Exercise 1\n",
    "\n",
    "Let's say, in my office, it takes me 10 seconds (time) to travel 25 meters (distance) to the coffee machine.\n",
    "If we want to express the above situation as a function, then it would be:\n",
    "\n",
    "distance = speed * time\n",
    "\n",
    "So for this case, speed is the first derivative of the distance function above. As speed describes the rate of change of distance over time, when people say taking the first derivative of a certain function, they mean finding out the rate of change of a function.\n",
    "\n",
    "**Find the speed and build the linear function on distance $(d)$ over time $(t)$, when $(t ∈ [0,10])$.**"
   ]
  },
  {
   "cell_type": "code",
   "execution_count": 3,
   "id": "bb3e954e",
   "metadata": {},
   "outputs": [],
   "source": [
    "# import libraries\n",
    "import matplotlib.pyplot as plt\n",
    "import numpy as np\n",
    "\n",
    "# Define the distance function\n",
    "\n",
    "def distancia(t): return 2.5*t\n"
   ]
  },
  {
   "cell_type": "code",
   "execution_count": 4,
   "id": "dbc4c780",
   "metadata": {},
   "outputs": [
    {
     "data": {
      "image/png": "[encoded data removed]",
      "text/plain": [
       "<Figure size 640x480 with 1 Axes>"
      ]
     },
     "metadata": {},
     "output_type": "display_data"
    }
   ],
   "source": [
    "# Plot the distance function on domain (t)\n",
    "\n",
    "t = np.linspace(0,10,100)\n",
    "\n",
    "plt.plot(t,distancia(t))\n",
    "plt.show()"
   ]
  },
  {
   "cell_type": "code",
   "execution_count": 5,
   "id": "4c4d4f20",
   "metadata": {},
   "outputs": [
    {
     "data": {
      "text/html": [
       "<div>\n",
       "<style scoped>\n",
       "    .dataframe tbody tr th:only-of-type {\n",
       "        vertical-align: middle;\n",
       "    }\n",
       "\n",
       "    .dataframe tbody tr th {\n",
       "        vertical-align: top;\n",
       "    }\n",
       "\n",
       "    .dataframe thead th {\n",
       "        text-align: right;\n",
       "    }\n",
       "</style>\n",
       "<table border=\"1\" class=\"dataframe\">\n",
       "  <thead>\n",
       "    <tr style=\"text-align: right;\">\n",
       "      <th></th>\n",
       "      <th>0</th>\n",
       "      <th>1</th>\n",
       "      <th>2</th>\n",
       "      <th>3</th>\n",
       "      <th>4</th>\n",
       "      <th>5</th>\n",
       "      <th>6</th>\n",
       "      <th>7</th>\n",
       "      <th>8</th>\n",
       "      <th>9</th>\n",
       "      <th>...</th>\n",
       "      <th>90</th>\n",
       "      <th>91</th>\n",
       "      <th>92</th>\n",
       "      <th>93</th>\n",
       "      <th>94</th>\n",
       "      <th>95</th>\n",
       "      <th>96</th>\n",
       "      <th>97</th>\n",
       "      <th>98</th>\n",
       "      <th>99</th>\n",
       "    </tr>\n",
       "  </thead>\n",
       "  <tbody>\n",
       "    <tr>\n",
       "      <th>0</th>\n",
       "      <td>0.0</td>\n",
       "      <td>0.101010</td>\n",
       "      <td>0.202020</td>\n",
       "      <td>0.303030</td>\n",
       "      <td>0.404040</td>\n",
       "      <td>0.505051</td>\n",
       "      <td>0.606061</td>\n",
       "      <td>0.707071</td>\n",
       "      <td>0.808081</td>\n",
       "      <td>0.909091</td>\n",
       "      <td>...</td>\n",
       "      <td>9.090909</td>\n",
       "      <td>9.191919</td>\n",
       "      <td>9.292929</td>\n",
       "      <td>9.393939</td>\n",
       "      <td>9.494949</td>\n",
       "      <td>9.595960</td>\n",
       "      <td>9.696970</td>\n",
       "      <td>9.797980</td>\n",
       "      <td>9.898990</td>\n",
       "      <td>10.0</td>\n",
       "    </tr>\n",
       "    <tr>\n",
       "      <th>1</th>\n",
       "      <td>0.0</td>\n",
       "      <td>0.252525</td>\n",
       "      <td>0.505051</td>\n",
       "      <td>0.757576</td>\n",
       "      <td>1.010101</td>\n",
       "      <td>1.262626</td>\n",
       "      <td>1.515152</td>\n",
       "      <td>1.767677</td>\n",
       "      <td>2.020202</td>\n",
       "      <td>2.272727</td>\n",
       "      <td>...</td>\n",
       "      <td>22.727273</td>\n",
       "      <td>22.979798</td>\n",
       "      <td>23.232323</td>\n",
       "      <td>23.484848</td>\n",
       "      <td>23.737374</td>\n",
       "      <td>23.989899</td>\n",
       "      <td>24.242424</td>\n",
       "      <td>24.494949</td>\n",
       "      <td>24.747475</td>\n",
       "      <td>25.0</td>\n",
       "    </tr>\n",
       "  </tbody>\n",
       "</table>\n",
       "<p>2 rows × 100 columns</p>\n",
       "</div>"
      ],
      "text/plain": [
       "    0         1         2         3         4         5         6         7   \\\n",
       "0  0.0  0.101010  0.202020  0.303030  0.404040  0.505051  0.606061  0.707071   \n",
       "1  0.0  0.252525  0.505051  0.757576  1.010101  1.262626  1.515152  1.767677   \n",
       "\n",
       "         8         9   ...         90         91         92         93  \\\n",
       "0  0.808081  0.909091  ...   9.090909   9.191919   9.292929   9.393939   \n",
       "1  2.020202  2.272727  ...  22.727273  22.979798  23.232323  23.484848   \n",
       "\n",
       "          94         95         96         97         98    99  \n",
       "0   9.494949   9.595960   9.696970   9.797980   9.898990  10.0  \n",
       "1  23.737374  23.989899  24.242424  24.494949  24.747475  25.0  \n",
       "\n",
       "[2 rows x 100 columns]"
      ]
     },
     "execution_count": 5,
     "metadata": {},
     "output_type": "execute_result"
    }
   ],
   "source": [
    "# Create a DataFrame\n",
    "import pandas as pd\n",
    "df = pd.DataFrame([t,distancia(t)])\n",
    "df"
   ]
  },
  {
   "cell_type": "markdown",
   "id": "1144168d",
   "metadata": {},
   "source": [
    "### Exercise 2\n",
    "\n",
    "It turned out that I wasn't walking a constant speed towards getting my coffee, but I was accelerating (my speed increased over time). If my initial *speed = 0*, it still took me 10 seconds to travel from my seat to my coffee, but I was walking faster and faster.\n",
    "\n",
    "$V_o$ = initial speed = $0$\n",
    "\n",
    "t = time\n",
    "\n",
    "a = acceleration\n",
    "\n",
    "**distance** = $V_o * t + 0.5 * a * (t^2)$\n",
    "\n",
    "**speed** = $V_o + a * t$\n",
    "\n",
    "The first derivative of the speed function is acceleration. I realize that the speed function is closely related to the distance function.\n",
    "\n",
    "**Find the acceleration value and build the quadratic function  $(t ∈ [0,10])$. Also, create a graph and a table.**"
   ]
  },
  {
   "cell_type": "code",
   "execution_count": 6,
   "id": "ec1f8bd7",
   "metadata": {},
   "outputs": [
    {
     "data": {
      "image/png": "[encoded data removed]",
      "text/plain": [
       "<Figure size 640x480 with 1 Axes>"
      ]
     },
     "metadata": {},
     "output_type": "display_data"
    }
   ],
   "source": [
    "# Define and plot the quadratic funtion\n",
    "\n",
    "def distancia(tiempo,aceleracion):\n",
    "    return 1/2*aceleracion*tiempo**2\n",
    "\n",
    "x = np.linspace(0,10,100)\n",
    "\n",
    "plt.plot(x,distancia(tiempo=x,aceleracion=0.5))\n",
    "plt.show()"
   ]
  },
  {
   "cell_type": "code",
   "execution_count": 7,
   "id": "ba5c497b",
   "metadata": {},
   "outputs": [
    {
     "data": {
      "text/html": [
       "<div>\n",
       "<style scoped>\n",
       "    .dataframe tbody tr th:only-of-type {\n",
       "        vertical-align: middle;\n",
       "    }\n",
       "\n",
       "    .dataframe tbody tr th {\n",
       "        vertical-align: top;\n",
       "    }\n",
       "\n",
       "    .dataframe thead th {\n",
       "        text-align: right;\n",
       "    }\n",
       "</style>\n",
       "<table border=\"1\" class=\"dataframe\">\n",
       "  <thead>\n",
       "    <tr style=\"text-align: right;\">\n",
       "      <th></th>\n",
       "      <th>0</th>\n",
       "      <th>1</th>\n",
       "      <th>2</th>\n",
       "      <th>3</th>\n",
       "      <th>4</th>\n",
       "      <th>5</th>\n",
       "      <th>6</th>\n",
       "      <th>7</th>\n",
       "      <th>8</th>\n",
       "      <th>9</th>\n",
       "      <th>...</th>\n",
       "      <th>90</th>\n",
       "      <th>91</th>\n",
       "      <th>92</th>\n",
       "      <th>93</th>\n",
       "      <th>94</th>\n",
       "      <th>95</th>\n",
       "      <th>96</th>\n",
       "      <th>97</th>\n",
       "      <th>98</th>\n",
       "      <th>99</th>\n",
       "    </tr>\n",
       "  </thead>\n",
       "  <tbody>\n",
       "    <tr>\n",
       "      <th>tiempo</th>\n",
       "      <td>0.0</td>\n",
       "      <td>0.101010</td>\n",
       "      <td>0.202020</td>\n",
       "      <td>0.303030</td>\n",
       "      <td>0.404040</td>\n",
       "      <td>0.505051</td>\n",
       "      <td>0.606061</td>\n",
       "      <td>0.707071</td>\n",
       "      <td>0.808081</td>\n",
       "      <td>0.909091</td>\n",
       "      <td>...</td>\n",
       "      <td>9.090909</td>\n",
       "      <td>9.191919</td>\n",
       "      <td>9.292929</td>\n",
       "      <td>9.393939</td>\n",
       "      <td>9.494949</td>\n",
       "      <td>9.59596</td>\n",
       "      <td>9.696970</td>\n",
       "      <td>9.797980</td>\n",
       "      <td>9.89899</td>\n",
       "      <td>10.0</td>\n",
       "    </tr>\n",
       "    <tr>\n",
       "      <th>metros recorridos</th>\n",
       "      <td>0.0</td>\n",
       "      <td>0.002551</td>\n",
       "      <td>0.010203</td>\n",
       "      <td>0.022957</td>\n",
       "      <td>0.040812</td>\n",
       "      <td>0.063769</td>\n",
       "      <td>0.091827</td>\n",
       "      <td>0.124987</td>\n",
       "      <td>0.163249</td>\n",
       "      <td>0.206612</td>\n",
       "      <td>...</td>\n",
       "      <td>20.661157</td>\n",
       "      <td>21.122845</td>\n",
       "      <td>21.589634</td>\n",
       "      <td>22.061524</td>\n",
       "      <td>22.538516</td>\n",
       "      <td>23.02061</td>\n",
       "      <td>23.507805</td>\n",
       "      <td>24.000102</td>\n",
       "      <td>24.49750</td>\n",
       "      <td>25.0</td>\n",
       "    </tr>\n",
       "  </tbody>\n",
       "</table>\n",
       "<p>2 rows × 100 columns</p>\n",
       "</div>"
      ],
      "text/plain": [
       "                    0         1         2         3         4         5   \\\n",
       "tiempo             0.0  0.101010  0.202020  0.303030  0.404040  0.505051   \n",
       "metros recorridos  0.0  0.002551  0.010203  0.022957  0.040812  0.063769   \n",
       "\n",
       "                         6         7         8         9   ...         90  \\\n",
       "tiempo             0.606061  0.707071  0.808081  0.909091  ...   9.090909   \n",
       "metros recorridos  0.091827  0.124987  0.163249  0.206612  ...  20.661157   \n",
       "\n",
       "                          91         92         93         94        95  \\\n",
       "tiempo              9.191919   9.292929   9.393939   9.494949   9.59596   \n",
       "metros recorridos  21.122845  21.589634  22.061524  22.538516  23.02061   \n",
       "\n",
       "                          96         97        98    99  \n",
       "tiempo              9.696970   9.797980   9.89899  10.0  \n",
       "metros recorridos  23.507805  24.000102  24.49750  25.0  \n",
       "\n",
       "[2 rows x 100 columns]"
      ]
     },
     "execution_count": 7,
     "metadata": {},
     "output_type": "execute_result"
    }
   ],
   "source": [
    "# Create a DataFrame\n",
    "\n",
    "df = pd.DataFrame([x,distancia(tiempo=x,aceleracion=0.5)],index=['tiempo','metros recorridos'])\n",
    "df"
   ]
  },
  {
   "cell_type": "markdown",
   "id": "66d4cc18",
   "metadata": {},
   "source": [
    "Before exercise 3, we'll make a brief introduction to Gradient Descent algorithm, which will have a larger explanation in future modules of the bootcamp.\n",
    "\n",
    "Gradient Descent algorithm is the hero behind the family of deep learning algorithms. When an algorithm in this family runs, it tries to minimize the error between the training input and predicted output. This minimization is done by optimization algorithms, and gradient descent is the most popular one.\n",
    "\n",
    "Let's say you have these input & output pairs:\n",
    "\n",
    "```py\n",
    "# Input:\n",
    "[\n",
    " [1,2],\n",
    " [3,4]\n",
    "]\n",
    "\n",
    "# Output:\n",
    "[\n",
    " [50],\n",
    " [110]\n",
    "]\n",
    "```\n",
    "\n",
    "We can estimate that if we multiply the input values by [10, 20], we can have the output as shown above.\n",
    "\n",
    "```py\n",
    "1(10) + 2(20) = 50\n",
    "\n",
    "3(10) + 4(20) = 110\n",
    "```\n",
    "\n",
    "When a machine learning algorithm starts running, it assigns random values and makes a prediction. \n",
    "Let's say it assigned [1,2] values:\n",
    "\n",
    "```py\n",
    "1(1) + 2(2) = 5\n",
    "\n",
    "3(1) + 4(2) = 11\n",
    "```\n",
    "\n",
    "Once it has the predictions, it calculates the error: the difference between the real data and the predicted data. There are many ways to calculate the error, and they are called loss functions.\n",
    "\n",
    "Once we have this value, the optimization algorithm starts showing itself, and it sets new values which replace the initial random values. \n",
    "\n",
    "And, the loop continues until a condition is met. That condition can be to loop *n* times, or to loop until the error is smaller than a value."
   ]
  },
  {
   "cell_type": "markdown",
   "id": "85ef2f0b",
   "metadata": {},
   "source": [
    "It can be hard to understand **gradient descent** without understanding **gradient**. So, let's focus on what a gradient is. The gradient shows the direction of the greatest change of a scalar function. The gradient calculation is done with derivatives, so let's start with a simple example. To calculate the gradient, we just need to remember some linear algebra calculations from high school because we need to calculate derivatives.\n",
    "\n",
    "Let's say we want to find the minimum point of $f(x) = x^2$. The derivative of that function is $df(x)=2x$. \n",
    "\n",
    "The gradient of $f(x)$ at point $x=-10$\n",
    "\n",
    "is \n",
    "\n",
    "$df(-10)=-20$.\n",
    "\n",
    "The gradient of $f(x)$ at point $x=1$\n",
    "\n",
    "is \n",
    "\n",
    "$df(1)=2$.\n",
    "\n",
    "Now let’s visualize $f(x)$ and those $x=-10$ and $x=1$ points."
   ]
  },
  {
   "cell_type": "code",
   "execution_count": 25,
   "id": "4ff7e11a",
   "metadata": {},
   "outputs": [],
   "source": [
    "import numpy as np\n",
    "import seaborn as sns\n",
    "\n",
    "def f(x):\n",
    "    return x**2\n",
    "\n",
    "def df(x):\n",
    "    return 2*x\n",
    "\n",
    "def visualize(f, x=None):\n",
    "    \n",
    "    xArray = np.linspace(-10, 10, 100) \n",
    "    yArray = f(xArray)\n",
    "    sns.lineplot(x=xArray, y=yArray)\n",
    "    \n",
    "    if x is not None:\n",
    "        assert type(x) in [np.ndarray, list] # x should be numpy array or list\n",
    "        if type(x) is list: # if it is a list, convert to numpy array\n",
    "            x = np.array(x)\n",
    "\n",
    "            \n",
    "        y = f(x)\n",
    "        sns.scatterplot(x=x, y=y, color='red')"
   ]
  },
  {
   "cell_type": "code",
   "execution_count": 27,
   "id": "633a54fd",
   "metadata": {},
   "outputs": [
    {
     "data": {
      "image/png": "[encoded data removed]",
      "text/plain": [
       "<Figure size 640x480 with 1 Axes>"
      ]
     },
     "metadata": {},
     "output_type": "display_data"
    }
   ],
   "source": [
    "visualize(f, x=[-10, 1])"
   ]
  },
  {
   "cell_type": "markdown",
   "id": "9c187ad7",
   "metadata": {},
   "source": [
    "The red dot at x=-10 does not know the surface it stands on, and it only knows the coordinates of where it stands and the gradient of itself, which is -20. And the other red dot at x=1 does not know the surface it stands on; it only knows the coordinates of where it stands and the gradient of itself, which is 2.\n",
    "\n",
    "By having only this information: we can say that the red dot at x=-10 should make a bigger jump than x=1 because it has a bigger absolute gradient value. The sign shows the direction. Minus (-) shows that the red dot at x=-10 should move to the right and the other one should move to the left.\n",
    "\n",
    "In summary, the red dot at x=-10 (gradient: -20) should make a bigger jump to the right, and the red dot at x=1 (gradient: 2) should make a smaller jump to the left. \n",
    "\n",
    "We know that the jump length should be proportional to the gradient, but what is that value exactly? We don’t know. So, let’s just say that red points should move with the length of *alpha * gradient*, where alpha is just a parameter.\n",
    "\n",
    "We can say that the new location of the red dot should be calculated with the following formula:\n",
    "\n",
    "x = x - gradient * alpha"
   ]
  },
  {
   "cell_type": "markdown",
   "id": "0a7f5c3f",
   "metadata": {},
   "source": [
    "Now let's implement this with **NumPy**. Let's start with visualizing the $f(x)=x^2$ function and the $x=-10$ point."
   ]
  },
  {
   "cell_type": "code",
   "execution_count": 28,
   "id": "e26dbdf0",
   "metadata": {},
   "outputs": [
    {
     "data": {
      "image/png": "[encoded data removed]",
      "text/plain": [
       "<Figure size 640x480 with 1 Axes>"
      ]
     },
     "metadata": {},
     "output_type": "display_data"
    }
   ],
   "source": [
    "visualize(f, x=[-10])"
   ]
  },
  {
   "cell_type": "markdown",
   "id": "6e752e19",
   "metadata": {},
   "source": [
    "The following code implements the whole logic explained before:"
   ]
  },
  {
   "cell_type": "code",
   "execution_count": 11,
   "id": "2bdd54f1",
   "metadata": {},
   "outputs": [],
   "source": [
    "def gradient_descent(x, nsteps=1):\n",
    "    \n",
    "    \n",
    "    # collectXs is an array to store how x changed in each iteration, so we can visualize it later\n",
    "    \n",
    "    collectXs = [x]\n",
    "    \n",
    "    # learning_rate is the value that we mentioned as alpha in the previous section\n",
    "    \n",
    "    learning_rate = 1e-01\n",
    "    \n",
    "    for _ in range(nsteps):\n",
    "        \n",
    "        # The following one line does the real magic\n",
    "        # The next value of x is calculated by subtracting the gradient * learning_rate by itself\n",
    "        # The intuition behind this line is in the previous section\n",
    "        \n",
    "        x -= df(x) * learning_rate \n",
    "        collectXs.append(x)\n",
    "        \n",
    "    # We return a tuple that contains\n",
    "    # x -> recent x after nsteps \n",
    "    # collectXs -> all the x values that were calculated so far\n",
    "    \n",
    "    return x, collectXs"
   ]
  },
  {
   "cell_type": "markdown",
   "id": "aea74a65",
   "metadata": {},
   "source": [
    "Before running a gradient descent with 1000 steps, let's just run it twice, one step at a time, to see how x evolves. \n",
    "We start with x=-10, and it evolves to x=-8. We know that when x=0 that is the **minimum point**, so yes, it is evolving in the correct direction."
   ]
  },
  {
   "cell_type": "code",
   "execution_count": 29,
   "id": "0350981e",
   "metadata": {},
   "outputs": [
    {
     "name": "stdout",
     "output_type": "stream",
     "text": [
      "-8.0\n"
     ]
    }
   ],
   "source": [
    "x=-10\n",
    "x, collectedXs = gradient_descent(x, nsteps=1)\n",
    "print(x)"
   ]
  },
  {
   "cell_type": "code",
   "execution_count": 30,
   "id": "f8e01e2d",
   "metadata": {},
   "outputs": [
    {
     "name": "stdout",
     "output_type": "stream",
     "text": [
      "-6.4\n"
     ]
    }
   ],
   "source": [
    "# The next step will start at x=-8. Let's run a gradient for 1 step\n",
    "\n",
    "x, collectedXs = gradient_descent(x, nsteps=1)\n",
    "print(x)"
   ]
  },
  {
   "cell_type": "markdown",
   "id": "93f13b32",
   "metadata": {},
   "source": [
    "It goes to x=-6.4. Excellent. Now let's run it 1000 times"
   ]
  },
  {
   "cell_type": "code",
   "execution_count": 31,
   "id": "b699d1fb",
   "metadata": {},
   "outputs": [
    {
     "name": "stdout",
     "output_type": "stream",
     "text": [
      "-7.873484301831169e-97\n"
     ]
    }
   ],
   "source": [
    "x, collectedXs = gradient_descent(x, nsteps=1000)\n",
    "print(x)"
   ]
  },
  {
   "cell_type": "code",
   "execution_count": 32,
   "id": "0b76ee22",
   "metadata": {},
   "outputs": [
    {
     "data": {
      "image/png": "[encoded data removed]",
      "text/plain": [
       "<Figure size 640x480 with 1 Axes>"
      ]
     },
     "metadata": {},
     "output_type": "display_data"
    }
   ],
   "source": [
    "visualize(f, x=collectedXs)"
   ]
  },
  {
   "cell_type": "markdown",
   "id": "d00d2fbb",
   "metadata": {},
   "source": [
    "### Exercise 3\n",
    "\n",
    "When I arrive to the coffee machine, I hear my colleague talking about the per-unit costs of producing 'product B' for the company. As the company produces more units, the per-unit costs continue to decrease until a point where they start to increase.\n",
    "\n",
    "To optimize the per-unit production cost at its minimum to optimize efficiency, the company would need to find the number of units to be produced where the per-unit production costs begin to change from decreasing to increasing.\n",
    "\n",
    "**Build a quadratic function $f(x)=0.1(x)^2−9x +4500$ on $x∈[0,100]$ to create the per-unit cost function, and make a conclusion.**"
   ]
  },
  {
   "cell_type": "code",
   "execution_count": 38,
   "id": "7c67d8b7",
   "metadata": {},
   "outputs": [
    {
     "data": {
      "image/png": "[encoded data removed]",
      "text/plain": [
       "<Figure size 640x480 with 1 Axes>"
      ]
     },
     "metadata": {},
     "output_type": "display_data"
    }
   ],
   "source": [
    "# Define and plot the function\n",
    "\n",
    "def cpu(x):\n",
    "    return 0.1*x**2-9*x+4500\n",
    "x = np.linspace(0,100,1000)\n",
    "\n",
    "plt.plot(x,cpu(x))\n",
    "plt.show()\n",
    "\n",
    "def dcpu(x):\n",
    "    return 0.2*x-9\n"
   ]
  },
  {
   "cell_type": "code",
   "execution_count": 35,
   "id": "e31b27d9",
   "metadata": {},
   "outputs": [
    {
     "name": "stdout",
     "output_type": "stream",
     "text": [
      "[4500.         4499.1001011  4498.20220621 4497.30631532 4496.41242844\n",
      " 4495.52054557 4494.6306667  4493.74279184 4492.85692099 4491.97305414\n",
      " 4491.09119129 4490.21133245 4489.33347762 4488.4576268  4487.58377998\n",
      " 4486.71193716 4485.84209835 4484.97426355 4484.10843276 4483.24460597\n",
      " 4482.38278318 4481.52296441 4480.66514963 4479.80933887 4478.95553211\n",
      " 4478.10372935 4477.25393061 4476.40613587 4475.56034513 4474.7165584\n",
      " 4473.87477568 4473.03499696 4472.19722225 4471.36145154 4470.52768484\n",
      " 4469.69592215 4468.86616346 4468.03840878 4467.2126581  4466.38891143\n",
      " 4465.56716877 4464.74743011 4463.92969546 4463.11396482 4462.30023818\n",
      " 4461.48851554 4460.67879692 4459.87108229 4459.06537168 4458.26166507\n",
      " 4457.45996246 4456.66026387 4455.86256928 4455.06687869 4454.27319211\n",
      " 4453.48150954 4452.69183097 4451.90415641 4451.11848585 4450.3348193\n",
      " 4449.55315676 4448.77349822 4447.99584369 4447.22019317 4446.44654665\n",
      " 4445.67490413 4444.90526563 4444.13763112 4443.37200063 4442.60837414\n",
      " 4441.84675166 4441.08713318 4440.32951871 4439.57390824 4438.82030178\n",
      " 4438.06869933 4437.31910088 4436.57150644 4435.82591601 4435.08232958\n",
      " 4434.34074715 4433.60116874 4432.86359433 4432.12802392 4431.39445752\n",
      " 4430.66289513 4429.93333674 4429.20578236 4428.48023198 4427.75668561\n",
      " 4427.03514325 4426.31560489 4425.59807054 4424.8825402  4424.16901386\n",
      " 4423.45749153 4422.7479732  4422.04045888 4421.33494856 4420.63144225\n",
      " 4419.92993995 4419.23044165 4418.53294736 4417.83745708 4417.1439708\n",
      " 4416.45248852 4415.76301026 4415.075536   4414.39006574 4413.70659949\n",
      " 4413.02513725 4412.34567901 4411.66822478 4410.99277456 4410.31932834\n",
      " 4409.64788612 4408.97844792 4408.31101372 4407.64558352 4406.98215733\n",
      " 4406.32073515 4405.66131697 4405.0039028  4404.34849264 4403.69508648\n",
      " 4403.04368432 4402.39428618 4401.74689204 4401.1015019  4400.45811577\n",
      " 4399.81673365 4399.17735553 4398.53998142 4397.90461132 4397.27124522\n",
      " 4396.63988313 4396.01052504 4395.38317096 4394.75782088 4394.13447482\n",
      " 4393.51313275 4392.8937947  4392.27646064 4391.6611306  4391.04780456\n",
      " 4390.43648253 4389.8271645  4389.21985048 4388.61454047 4388.01123446\n",
      " 4387.40993245 4386.81063446 4386.21334047 4385.61805048 4385.0247645\n",
      " 4384.43348253 4383.84420456 4383.2569306  4382.67166065 4382.0883947\n",
      " 4381.50713276 4380.92787482 4380.35062089 4379.77537097 4379.20212505\n",
      " 4378.63088314 4378.06164523 4377.49441133 4376.92918143 4376.36595555\n",
      " 4375.80473366 4375.24551579 4374.68830192 4374.13309205 4373.57988619\n",
      " 4373.02868434 4372.47948649 4371.93229265 4371.38710282 4370.84391699\n",
      " 4370.30273517 4369.76355735 4369.22638354 4368.69121374 4368.15804794\n",
      " 4367.62688615 4367.09772836 4366.57057458 4366.0454248  4365.52227904\n",
      " 4365.00113727 4364.48199952 4363.96486577 4363.44973602 4362.93661028\n",
      " 4362.42548855 4361.91637083 4361.4092571  4360.90414739 4360.40104168\n",
      " 4359.89993998 4359.40084228 4358.90374859 4358.40865891 4357.91557323\n",
      " 4357.42449156 4356.93541389 4356.44834023 4355.96327058 4355.48020493\n",
      " 4354.99914329 4354.52008565 4354.04303202 4353.5679824  4353.09493678\n",
      " 4352.62389517 4352.15485756 4351.68782396 4351.22279437 4350.75976878\n",
      " 4350.2987472  4349.83972962 4349.38271605 4348.92770649 4348.47470093\n",
      " 4348.02369938 4347.57470183 4347.12770829 4346.68271875 4346.23973323\n",
      " 4345.7987517  4345.35977419 4344.92280068 4344.48783117 4344.05486568\n",
      " 4343.62390418 4343.1949467  4342.76799322 4342.34304374 4341.92009828\n",
      " 4341.49915681 4341.08021936 4340.66328591 4340.24835646 4339.83543103\n",
      " 4339.42450959 4339.01559217 4338.60867875 4338.20376933 4337.80086393\n",
      " 4337.39996253 4337.00106513 4336.60417174 4336.20928236 4335.81639698\n",
      " 4335.42551561 4335.03663824 4334.64976488 4334.26489553 4333.88203018\n",
      " 4333.50116884 4333.1223115  4332.74545817 4332.37060885 4331.99776353\n",
      " 4331.62692222 4331.25808491 4330.89125161 4330.52642232 4330.16359703\n",
      " 4329.80277575 4329.44395847 4329.0871452  4328.73233594 4328.37953068\n",
      " 4328.02872943 4327.67993218 4327.33313894 4326.98834971 4326.64556448\n",
      " 4326.30478326 4325.96600605 4325.62923284 4325.29446363 4324.96169844\n",
      " 4324.63093724 4324.30218006 4323.97542688 4323.6506777  4323.32793254\n",
      " 4323.00719138 4322.68845422 4322.37172107 4322.05699193 4321.74426679\n",
      " 4321.43354566 4321.12482853 4320.81811541 4320.5134063  4320.21070119\n",
      " 4319.91000009 4319.61130299 4319.31460991 4319.01992082 4318.72723574\n",
      " 4318.43655467 4318.14787761 4317.86120455 4317.57653549 4317.29387045\n",
      " 4317.01320941 4316.73455237 4316.45789934 4316.18325032 4315.9106053\n",
      " 4315.63996429 4315.37132728 4315.10469428 4314.84006529 4314.5774403\n",
      " 4314.31681932 4314.05820235 4313.80158938 4313.54698041 4313.29437546\n",
      " 4313.04377451 4312.79517756 4312.54858462 4312.30399569 4312.06141076\n",
      " 4311.82082984 4311.58225292 4311.34568001 4311.11111111 4310.87854621\n",
      " 4310.64798532 4310.41942844 4310.19287556 4309.96832669 4309.74578182\n",
      " 4309.52524096 4309.3067041  4309.09017125 4308.87564241 4308.66311757\n",
      " 4308.45259674 4308.24407992 4308.0375671  4307.83305828 4307.63055348\n",
      " 4307.43005268 4307.23155588 4307.03506309 4306.84057431 4306.64808953\n",
      " 4306.45760876 4306.26913199 4306.08265924 4305.89819048 4305.71572574\n",
      " 4305.53526499 4305.35680826 4305.18035553 4305.00590681 4304.83346209\n",
      " 4304.66302138 4304.49458467 4304.32815198 4304.16372328 4304.0012986\n",
      " 4303.84087791 4303.68246124 4303.52604857 4303.37163991 4303.21923525\n",
      " 4303.0688346  4302.92043796 4302.77404532 4302.62965668 4302.48727206\n",
      " 4302.34689144 4302.20851482 4302.07214221 4301.93777361 4301.80540901\n",
      " 4301.67504842 4301.54669184 4301.42033926 4301.29599069 4301.17364612\n",
      " 4301.05330556 4300.934969   4300.81863645 4300.70430791 4300.59198337\n",
      " 4300.48166284 4300.37334632 4300.2670338  4300.16272529 4300.06042078\n",
      " 4299.96012028 4299.86182379 4299.7655313  4299.67124281 4299.57895834\n",
      " 4299.48867787 4299.4004014  4299.31412894 4299.22986049 4299.14759604\n",
      " 4299.0673356  4298.98907917 4298.91282674 4298.83857832 4298.7663339\n",
      " 4298.69609349 4298.62785709 4298.56162469 4298.4973963  4298.43517191\n",
      " 4298.37495153 4298.31673515 4298.26052279 4298.20631442 4298.15411007\n",
      " 4298.10390972 4298.05571337 4298.00952103 4297.9653327  4297.92314837\n",
      " 4297.88296805 4297.84479174 4297.80861943 4297.77445113 4297.74228683\n",
      " 4297.71212654 4297.68397026 4297.65781798 4297.63366971 4297.61152544\n",
      " 4297.59138518 4297.57324892 4297.55711668 4297.54298843 4297.5308642\n",
      " 4297.52074397 4297.51262774 4297.50651552 4297.50240731 4297.50030311\n",
      " 4297.50020291 4297.50210671 4297.50601452 4297.51192634 4297.51984216\n",
      " 4297.52976199 4297.54168583 4297.55561367 4297.57154552 4297.58948137\n",
      " 4297.60942123 4297.6313651  4297.65531297 4297.68126485 4297.70922073\n",
      " 4297.73918062 4297.77114452 4297.80511242 4297.84108433 4297.87906024\n",
      " 4297.91904016 4297.96102409 4298.00501202 4298.05100396 4298.0989999\n",
      " 4298.14899985 4298.20100381 4298.25501177 4298.31102374 4298.36903971\n",
      " 4298.42905969 4298.49108368 4298.55511167 4298.62114367 4298.68917967\n",
      " 4298.75921968 4298.8312637  4298.90531172 4298.98136375 4299.05941978\n",
      " 4299.13947982 4299.22154387 4299.30561192 4299.39168398 4299.47976004\n",
      " 4299.56984011 4299.66192419 4299.75601227 4299.85210436 4299.95020045\n",
      " 4300.05030055 4300.15240466 4300.25651277 4300.36262489 4300.47074101\n",
      " 4300.58086114 4300.69298528 4300.80711342 4300.92324557 4301.04138172\n",
      " 4301.16152188 4301.28366605 4301.40781422 4301.5339664  4301.66212258\n",
      " 4301.79228277 4301.92444697 4302.05861517 4302.19478738 4302.33296359\n",
      " 4302.47314381 4302.61532804 4302.75951627 4302.90570851 4303.05390476\n",
      " 4303.20410501 4303.35630926 4303.51051752 4303.66672979 4303.82494607\n",
      " 4303.98516635 4304.14739063 4304.31161893 4304.47785122 4304.64608753\n",
      " 4304.81632784 4304.98857216 4305.16282048 4305.33907281 4305.51732914\n",
      " 4305.69758948 4305.87985383 4306.06412218 4306.25039454 4306.4386709\n",
      " 4306.62895127 4306.82123565 4307.01552403 4307.21181642 4307.41011282\n",
      " 4307.61041322 4307.81271762 4308.01702604 4308.22333845 4308.43165488\n",
      " 4308.64197531 4308.85429975 4309.06862819 4309.28496064 4309.50329709\n",
      " 4309.72363755 4309.94598202 4310.17033049 4310.39668297 4310.62503945\n",
      " 4310.85539994 4311.08776444 4311.32213294 4311.55850545 4311.79688197\n",
      " 4312.03726249 4312.27964701 4312.52403555 4312.77042809 4313.01882463\n",
      " 4313.26922518 4313.52162974 4313.7760383  4314.03245087 4314.29086744\n",
      " 4314.55128802 4314.81371261 4315.0781412  4315.3445738  4315.61301041\n",
      " 4315.88345102 4316.15589564 4316.43034426 4316.70679689 4316.98525352\n",
      " 4317.26571416 4317.54817881 4317.83264746 4318.11912012 4318.40759679\n",
      " 4318.69807746 4318.99056213 4319.28505082 4319.58154351 4319.8800402\n",
      " 4320.1805409  4320.48304561 4320.78755432 4321.09406704 4321.40258376\n",
      " 4321.7131045  4322.02562923 4322.34015798 4322.65669072 4322.97522748\n",
      " 4323.29576824 4323.61831301 4323.94286178 4324.26941456 4324.59797134\n",
      " 4324.92853214 4325.26109693 4325.59566574 4325.93223854 4326.27081536\n",
      " 4326.61139618 4326.95398101 4327.29856984 4327.64516268 4327.99375953\n",
      " 4328.34436038 4328.69696523 4329.0515741  4329.40818697 4329.76680384\n",
      " 4330.12742472 4330.49004961 4330.8546785  4331.2213114  4331.58994831\n",
      " 4331.96058922 4332.33323414 4332.70788306 4333.08453599 4333.46319292\n",
      " 4333.84385386 4334.22651881 4334.61118776 4334.99786072 4335.38653769\n",
      " 4335.77721866 4336.16990364 4336.56459262 4336.96128561 4337.35998261\n",
      " 4337.76068361 4338.16338861 4338.56809763 4338.97481065 4339.38352767\n",
      " 4339.7942487  4340.20697374 4340.62170278 4341.03843583 4341.45717289\n",
      " 4341.87791395 4342.30065902 4342.72540809 4343.15216117 4343.58091826\n",
      " 4344.01167935 4344.44444444 4344.87921355 4345.31598666 4345.75476377\n",
      " 4346.19554489 4346.63833002 4347.08311916 4347.52991229 4347.97870944\n",
      " 4348.42951059 4348.88231575 4349.33712491 4349.79393808 4350.25275526\n",
      " 4350.71357644 4351.17640163 4351.64123082 4352.10806402 4352.57690123\n",
      " 4353.04774244 4353.52058765 4353.99543688 4354.47229011 4354.95114734\n",
      " 4355.43200859 4355.91487383 4356.39974309 4356.88661635 4357.37549361\n",
      " 4357.86637488 4358.35926016 4358.85414944 4359.35104273 4359.84994003\n",
      " 4360.35084133 4360.85374664 4361.35865595 4361.86556927 4362.3744866\n",
      " 4362.88540793 4363.39833327 4363.91326261 4364.43019596 4364.94913332\n",
      " 4365.47007468 4365.99302005 4366.51796942 4367.0449228  4367.57388019\n",
      " 4368.10484158 4368.63780698 4369.17277638 4369.70974979 4370.24872721\n",
      " 4370.78970863 4371.33269406 4371.87768349 4372.42467693 4372.97367438\n",
      " 4373.52467583 4374.07768128 4374.63269075 4375.18970422 4375.74872169\n",
      " 4376.30974318 4376.87276866 4377.43779816 4378.00483166 4378.57386916\n",
      " 4379.14491068 4379.71795619 4380.29300572 4380.87005925 4381.44911678\n",
      " 4382.03017833 4382.61324387 4383.19831343 4383.78538699 4384.37446455\n",
      " 4384.96554613 4385.5586317  4386.15372129 4386.75081488 4387.34991248\n",
      " 4387.95101408 4388.55411969 4389.1592293  4389.76634292 4390.37546055\n",
      " 4390.98658218 4391.59970782 4392.21483746 4392.83197111 4393.45110877\n",
      " 4394.07225043 4394.6953961  4395.32054577 4395.94769945 4396.57685714\n",
      " 4397.20801883 4397.84118453 4398.47635423 4399.11352794 4399.75270566\n",
      " 4400.39388738 4401.03707311 4401.68226284 4402.32945658 4402.97865433\n",
      " 4403.62985608 4404.28306184 4404.9382716  4405.59548538 4406.25470315\n",
      " 4406.91592493 4407.57915072 4408.24438052 4408.91161432 4409.58085212\n",
      " 4410.25209394 4410.92533975 4411.60058958 4412.27784341 4412.95710125\n",
      " 4413.63836309 4414.32162894 4415.00689879 4415.69417265 4416.38345052\n",
      " 4417.07473239 4417.76801827 4418.46330815 4419.16060204 4419.85989994\n",
      " 4420.56120184 4421.26450775 4421.96981767 4422.67713159 4423.38644951\n",
      " 4424.09777145 4424.81109738 4425.52642733 4426.24376128 4426.96309924\n",
      " 4427.6844412  4428.40778717 4429.13313714 4429.86049112 4430.58984911\n",
      " 4431.3212111  4432.0545771  4432.7899471  4433.52732111 4434.26669913\n",
      " 4435.00808115 4435.75146718 4436.49685722 4437.24425126 4437.9936493\n",
      " 4438.74505136 4439.49845742 4440.25386748 4441.01128155 4441.77069963\n",
      " 4442.53212171 4443.2955478  4444.06097789 4444.828412   4445.5978501\n",
      " 4446.36929222 4447.14273833 4447.91818846 4448.69564259 4449.47510073\n",
      " 4450.25656287 4451.04002902 4451.82549917 4452.61297333 4453.4024515\n",
      " 4454.19393367 4454.98741985 4455.78291004 4456.58040423 4457.37990242\n",
      " 4458.18140463 4458.98491084 4459.79042105 4460.59793527 4461.4074535\n",
      " 4462.21897573 4463.03250197 4463.84803222 4464.66556647 4465.48510472\n",
      " 4466.30664699 4467.13019326 4467.95574353 4468.78329781 4469.6128561\n",
      " 4470.44441839 4471.27798469 4472.113555   4472.95112931 4473.79070762\n",
      " 4474.63228995 4475.47587628 4476.32146661 4477.16906095 4478.0186593\n",
      " 4478.87026165 4479.72386801 4480.57947838 4481.43709275 4482.29671113\n",
      " 4483.15833351 4484.0219599  4484.88759029 4485.75522469 4486.6248631\n",
      " 4487.49650551 4488.37015193 4489.24580236 4490.12345679 4491.00311523\n",
      " 4491.88477767 4492.76844412 4493.65411458 4494.54178904 4495.4314675\n",
      " 4496.32314998 4497.21683646 4498.11252694 4499.01022143 4499.90991993\n",
      " 4500.81162243 4501.71532894 4502.62103946 4503.52875398 4504.43847251\n",
      " 4505.35019504 4506.26392158 4507.17965212 4508.09738668 4509.01712523\n",
      " 4509.9388678  4510.86261437 4511.78836494 4512.71611952 4513.64587811\n",
      " 4514.5776407  4515.5114073  4516.44717791 4517.38495252 4518.32473114\n",
      " 4519.26651376 4520.21030039 4521.15609103 4522.10388567 4523.05368431\n",
      " 4524.00548697 4524.95929363 4525.91510429 4526.87291897 4527.83273764\n",
      " 4528.79456033 4529.75838702 4530.72421771 4531.69205241 4532.66189112\n",
      " 4533.63373383 4534.60758055 4535.58343128 4536.56128601 4537.54114475\n",
      " 4538.52300749 4539.50687424 4540.492745   4541.48061976 4542.47049853\n",
      " 4543.4623813  4544.45626808 4545.45215887 4546.45005366 4547.44995245\n",
      " 4548.45185526 4549.45576207 4550.46167288 4551.46958771 4552.47950653\n",
      " 4553.49142937 4554.50535621 4555.52128705 4556.5392219  4557.55916076\n",
      " 4558.58110363 4559.6050505  4560.63100137 4561.65895625 4562.68891514\n",
      " 4563.72087804 4564.75484494 4565.79081584 4566.82879075 4567.86876967\n",
      " 4568.91075259 4569.95473952 4571.00073046 4572.0487254  4573.09872435\n",
      " 4574.1507273  4575.20473426 4576.26074523 4577.3187602  4578.37877918\n",
      " 4579.44080216 4580.50482915 4581.57086015 4582.63889515 4583.70893416\n",
      " 4584.78097717 4585.85502419 4586.93107522 4588.00913025 4589.08918929\n",
      " 4590.17125233 4591.25531938 4592.34139044 4593.4294655  4594.51954457\n",
      " 4595.61162764 4596.70571472 4597.80180581 4598.8999009  4600.        ]\n"
     ]
    }
   ],
   "source": [
    "print(cpu(x))"
   ]
  },
  {
   "cell_type": "markdown",
   "id": "fbe54895",
   "metadata": {},
   "source": [
    "We saw with Gradient Descent how the red dot navigates in an environment it does not know about. It only knows the coordinates of where it is and its gradient. The red dot could find the minimum point by using only this knowledge and the gradient descent algorithm.\n",
    "\n",
    "**Optional:**\n",
    "\n",
    "Implement all the previous steps to create a gradient descent algorithm to see how the per-unit cost evolves, with a starting point of 0 units of production."
   ]
  },
  {
   "cell_type": "code",
   "execution_count": 37,
   "id": "ebcd210f",
   "metadata": {},
   "outputs": [],
   "source": [
    "def gradient_descent(x, df,nsteps=1):\n",
    "    \n",
    "    \n",
    "    # collectXs is an array to store how x changed in each iteration, so we can visualize it later\n",
    "    \n",
    "    collectXs = [x]\n",
    "    \n",
    "    # learning_rate is the value that we mentioned as alpha in the previous section\n",
    "    \n",
    "    learning_rate = 1e-01\n",
    "    \n",
    "    for _ in range(nsteps):\n",
    "        \n",
    "        # The following one line does the real magic\n",
    "        # The next value of x is calculated by subtracting the gradient * learning_rate by itself\n",
    "        # The intuition behind this line is in the previous section\n",
    "        \n",
    "        x -= df(x) * learning_rate \n",
    "        collectXs.append(x)\n",
    "        \n",
    "    # We return a tuple that contains\n",
    "    # x -> recent x after nsteps \n",
    "    # collectXs -> all the x values that were calculated so far\n",
    "    \n",
    "    return x, collectXs"
   ]
  },
  {
   "cell_type": "code",
   "execution_count": 39,
   "id": "082f6c1d",
   "metadata": {},
   "outputs": [],
   "source": [
    "def visualize(f, x=None):\n",
    "    \n",
    "    xArray = np.linspace(0, 100, 1000) \n",
    "    yArray = f(xArray)\n",
    "    sns.lineplot(x=xArray, y=yArray)\n",
    "    \n",
    "    if x is not None:\n",
    "        assert type(x) in [np.ndarray, list] # x should be numpy array or list\n",
    "        if type(x) is list: # if it is a list, convert to numpy array\n",
    "            x = np.array(x)\n",
    "\n",
    "            \n",
    "        y = f(x)\n",
    "        sns.scatterplot(x=x, y=y, color='red')"
   ]
  },
  {
   "cell_type": "code",
   "execution_count": 40,
   "id": "f4e00915",
   "metadata": {},
   "outputs": [
    {
     "data": {
      "image/png": "[encoded data removed]",
      "text/plain": [
       "<Figure size 640x480 with 1 Axes>"
      ]
     },
     "metadata": {},
     "output_type": "display_data"
    }
   ],
   "source": [
    "x=0\n",
    "x, collectedXs = gradient_descent(x,dcpu,1000)\n",
    "visualize(cpu,collectedXs)"
   ]
  },
  {
   "cell_type": "code",
   "execution_count": 41,
   "id": "492e47c0",
   "metadata": {},
   "outputs": [
    {
     "data": {
      "text/plain": [
       "44.99999992426644"
      ]
     },
     "execution_count": 41,
     "metadata": {},
     "output_type": "execute_result"
    }
   ],
   "source": [
    "x"
   ]
  },
  {
   "cell_type": "code",
   "execution_count": 42,
   "id": "c0b44773",
   "metadata": {},
   "outputs": [
    {
     "data": {
      "text/plain": [
       "4297.5"
      ]
     },
     "execution_count": 42,
     "metadata": {},
     "output_type": "execute_result"
    }
   ],
   "source": [
    "cpu(x)"
   ]
  },
  {
   "cell_type": "markdown",
   "id": "aabad82c",
   "metadata": {},
   "source": [
    "## Linear Algebra"
   ]
  },
  {
   "cell_type": "markdown",
   "id": "6753636d",
   "metadata": {},
   "source": [
    "### Exercise 1: Sum of two matrices\n",
    "\n",
    "Suppose we have two matrices A and B.\n",
    "\n",
    "```py\n",
    "A = [[1,2],[3,4]]\n",
    "B = [[4,5],[6,7]]\n",
    "\n",
    "then we get\n",
    "A+B = [[5,7],[9,11]]\n",
    "A-B = [[-3,-3],[-3,-3]]\n",
    "```\n",
    "\n",
    "Make the sum of two matrices using Python with NumPy"
   ]
  },
  {
   "cell_type": "code",
   "execution_count": 45,
   "id": "9e200c32",
   "metadata": {},
   "outputs": [
    {
     "name": "stdout",
     "output_type": "stream",
     "text": [
      "[[1 2]\n",
      " [3 4]]\n",
      "[[4 5]\n",
      " [6 7]]\n",
      "[[ 5  7]\n",
      " [ 9 11]]\n",
      "[[-3 -3]\n",
      " [-3 -3]]\n"
     ]
    }
   ],
   "source": [
    "# import numpy as np\n",
    "import numpy as np\n",
    "\n",
    "# Creating first matrix\n",
    "\n",
    "A = [[1,2],[3,4]]\n",
    "matrixA = np.array(A)\n",
    "\n",
    "# Creating second matrix\n",
    "B= [[4,5],[6,7]]\n",
    "matrixB = np.array(B)\n",
    " \n",
    "# Print elements\n",
    "print(matrixA)\n",
    "print(matrixB)\n",
    "\n",
    " \n",
    "# Adding both matrices\n",
    "print(matrixA+matrixB)\n",
    "print(matrixA-matrixB)\n"
   ]
  },
  {
   "cell_type": "markdown",
   "id": "93bfb6cc",
   "metadata": {},
   "source": [
    "### Exercise 2: Sum of two lists\n",
    "\n",
    "There will be many situations in which we'll have to find an index-wise summation of two different lists. This can have possible applications in day-to-day programming. In this exercise, we will solve the same problem in various ways in which this task can be performed.\n",
    "\n",
    "We have the following two lists:\n",
    "\n",
    "```py\n",
    "list1 = [2, 5, 4, 7, 3]\n",
    "list2 = [1, 4, 6, 9, 10]\n",
    "```\n",
    "\n",
    "Now let's use Python code to demonstrate addition of two lists."
   ]
  },
  {
   "cell_type": "code",
   "execution_count": 58,
   "id": "867b70fc",
   "metadata": {},
   "outputs": [
    {
     "name": "stdout",
     "output_type": "stream",
     "text": [
      "Original list 1 : [2, 5, 4, 7, 3, 8]\n",
      "Original list 2 : [1, 4, 6, 9, 10]\n"
     ]
    },
    {
     "ename": "IndexError",
     "evalue": "list index out of range",
     "output_type": "error",
     "traceback": [
      "\u001b[0;31m---------------------------------------------------------------------------\u001b[0m",
      "\u001b[0;31mIndexError\u001b[0m                                Traceback (most recent call last)",
      "Cell \u001b[0;32mIn[58], line 14\u001b[0m\n\u001b[1;32m     12\u001b[0m res_list \u001b[38;5;241m=\u001b[39m []\n\u001b[1;32m     13\u001b[0m \u001b[38;5;28;01mfor\u001b[39;00m i \u001b[38;5;129;01min\u001b[39;00m \u001b[38;5;28mrange\u001b[39m(\u001b[38;5;241m0\u001b[39m, \u001b[38;5;28mlen\u001b[39m(list1)):\n\u001b[0;32m---> 14\u001b[0m     res_list\u001b[38;5;241m.\u001b[39mappend(list1[i] \u001b[38;5;241m+\u001b[39m \u001b[43mlist2\u001b[49m\u001b[43m[\u001b[49m\u001b[43mi\u001b[49m\u001b[43m]\u001b[49m)\n\u001b[1;32m     16\u001b[0m \u001b[38;5;66;03m# Printing resulting list \u001b[39;00m\n\u001b[1;32m     17\u001b[0m \u001b[38;5;28mprint\u001b[39m (\u001b[38;5;124m\"\u001b[39m\u001b[38;5;124mResulting list is : \u001b[39m\u001b[38;5;124m\"\u001b[39m \u001b[38;5;241m+\u001b[39m \u001b[38;5;28mstr\u001b[39m(res_list))\n",
      "\u001b[0;31mIndexError\u001b[0m: list index out of range"
     ]
    }
   ],
   "source": [
    "# Naive method\n",
    "\n",
    "# Initializing lists\n",
    "list1 = [2, 5, 4, 7, 3,8]\n",
    "list2 = [1, 4, 6, 9, 10]\n",
    " \n",
    "# Printing original lists\n",
    "print (\"Original list 1 : \" + str(list1))\n",
    "print (\"Original list 2 : \" + str(list2))\n",
    " \n",
    "# Using naive method to add two lists \n",
    "res_list = []\n",
    "for i in range(0, len(list1)):\n",
    "    res_list.append(list1[i] + list2[i])\n",
    " \n",
    "# Printing resulting list \n",
    "print (\"Resulting list is : \" + str(res_list))"
   ]
  },
  {
   "cell_type": "markdown",
   "id": "7a063d7f",
   "metadata": {},
   "source": [
    "Now use the following three different methods to make the same calculation: sum of two lists"
   ]
  },
  {
   "cell_type": "code",
   "execution_count": 59,
   "id": "681930a3",
   "metadata": {},
   "outputs": [
    {
     "name": "stdout",
     "output_type": "stream",
     "text": [
      "Original list 1 : [2, 5, 4, 7, 3, 8]\n",
      "Original list 2 : [1, 4, 6, 9, 10]\n"
     ]
    },
    {
     "ename": "IndexError",
     "evalue": "list index out of range",
     "output_type": "error",
     "traceback": [
      "\u001b[0;31m---------------------------------------------------------------------------\u001b[0m",
      "\u001b[0;31mIndexError\u001b[0m                                Traceback (most recent call last)",
      "Cell \u001b[0;32mIn[59], line 10\u001b[0m\n\u001b[1;32m      6\u001b[0m \u001b[38;5;28mprint\u001b[39m (\u001b[38;5;124m\"\u001b[39m\u001b[38;5;124mOriginal list 2 : \u001b[39m\u001b[38;5;124m\"\u001b[39m \u001b[38;5;241m+\u001b[39m \u001b[38;5;28mstr\u001b[39m(list2))\n\u001b[1;32m      8\u001b[0m \u001b[38;5;66;03m# Using list comprehension to add two lists\u001b[39;00m\n\u001b[0;32m---> 10\u001b[0m res_list \u001b[38;5;241m=\u001b[39m \u001b[43m[\u001b[49m\u001b[43mlist1\u001b[49m\u001b[43m[\u001b[49m\u001b[43mi\u001b[49m\u001b[43m]\u001b[49m\u001b[38;5;241;43m+\u001b[39;49m\u001b[43mlist2\u001b[49m\u001b[43m[\u001b[49m\u001b[43mi\u001b[49m\u001b[43m]\u001b[49m\u001b[43m \u001b[49m\u001b[38;5;28;43;01mfor\u001b[39;49;00m\u001b[43m \u001b[49m\u001b[43mi\u001b[49m\u001b[43m \u001b[49m\u001b[38;5;129;43;01min\u001b[39;49;00m\u001b[43m \u001b[49m\u001b[38;5;28;43mrange\u001b[39;49m\u001b[43m(\u001b[49m\u001b[38;5;28;43mlen\u001b[39;49m\u001b[43m(\u001b[49m\u001b[43mlist1\u001b[49m\u001b[43m)\u001b[49m\u001b[43m)\u001b[49m\u001b[43m]\u001b[49m\n\u001b[1;32m     12\u001b[0m \u001b[38;5;66;03m# Printing resulting list \u001b[39;00m\n\u001b[1;32m     14\u001b[0m \u001b[38;5;28mprint\u001b[39m (\u001b[38;5;124m\"\u001b[39m\u001b[38;5;124mResulting list is : \u001b[39m\u001b[38;5;124m\"\u001b[39m \u001b[38;5;241m+\u001b[39m \u001b[38;5;28mstr\u001b[39m(res_list))\n",
      "Cell \u001b[0;32mIn[59], line 10\u001b[0m, in \u001b[0;36m<listcomp>\u001b[0;34m(.0)\u001b[0m\n\u001b[1;32m      6\u001b[0m \u001b[38;5;28mprint\u001b[39m (\u001b[38;5;124m\"\u001b[39m\u001b[38;5;124mOriginal list 2 : \u001b[39m\u001b[38;5;124m\"\u001b[39m \u001b[38;5;241m+\u001b[39m \u001b[38;5;28mstr\u001b[39m(list2))\n\u001b[1;32m      8\u001b[0m \u001b[38;5;66;03m# Using list comprehension to add two lists\u001b[39;00m\n\u001b[0;32m---> 10\u001b[0m res_list \u001b[38;5;241m=\u001b[39m [list1[i]\u001b[38;5;241m+\u001b[39m\u001b[43mlist2\u001b[49m\u001b[43m[\u001b[49m\u001b[43mi\u001b[49m\u001b[43m]\u001b[49m \u001b[38;5;28;01mfor\u001b[39;00m i \u001b[38;5;129;01min\u001b[39;00m \u001b[38;5;28mrange\u001b[39m(\u001b[38;5;28mlen\u001b[39m(list1))]\n\u001b[1;32m     12\u001b[0m \u001b[38;5;66;03m# Printing resulting list \u001b[39;00m\n\u001b[1;32m     14\u001b[0m \u001b[38;5;28mprint\u001b[39m (\u001b[38;5;124m\"\u001b[39m\u001b[38;5;124mResulting list is : \u001b[39m\u001b[38;5;124m\"\u001b[39m \u001b[38;5;241m+\u001b[39m \u001b[38;5;28mstr\u001b[39m(res_list))\n",
      "\u001b[0;31mIndexError\u001b[0m: list index out of range"
     ]
    }
   ],
   "source": [
    "# Use list comprehension to perform addition of the two lists:\n",
    "\n",
    "# Printing original lists\n",
    "\n",
    "print (\"Original list 1 : \" + str(list1))\n",
    "print (\"Original list 2 : \" + str(list2))\n",
    "\n",
    "# Using list comprehension to add two lists\n",
    "\n",
    "res_list = [list1[i]+list2[i] for i in range(len(list1))]\n",
    " \n",
    "# Printing resulting list \n",
    "\n",
    "print (\"Resulting list is : \" + str(res_list))\n",
    "\n"
   ]
  },
  {
   "cell_type": "code",
   "execution_count": 60,
   "id": "a3a8a425",
   "metadata": {},
   "outputs": [
    {
     "name": "stdout",
     "output_type": "stream",
     "text": [
      "Resulting list is : [3, 9, 10, 16, 13]\n"
     ]
    }
   ],
   "source": [
    "\n",
    "from operator import add\n",
    "\n",
    "def dosxmas3y (x,y):\n",
    "    return 2*x+3*y\n",
    " \n",
    "# Using map() + add() to add two lists\n",
    "\n",
    "res_list = list(map(add,list1,list2))\n",
    " \n",
    "# Printing resulting list\n",
    "print (\"Resulting list is : \" + str(res_list))"
   ]
  },
  {
   "cell_type": "code",
   "execution_count": 61,
   "id": "1708d7ee",
   "metadata": {},
   "outputs": [
    {
     "name": "stdout",
     "output_type": "stream",
     "text": [
      "Resulting list is : [3, 9, 10, 16, 13]\n"
     ]
    }
   ],
   "source": [
    "# Use zip() + sum():\n",
    "\n",
    "\n",
    "# Initializing lists\n",
    "\n",
    " \n",
    "# Printing original lists\n",
    "\n",
    " \n",
    "# Using zip() + sum() to add two lists\n",
    "\n",
    "res_list = [sum(i) for i in zip(list1,list2)]\n",
    "# Printing resulting list \n",
    "print (\"Resulting list is : \" + str(res_list))"
   ]
  },
  {
   "cell_type": "markdown",
   "id": "1aef1bd2",
   "metadata": {},
   "source": [
    "### Exercise 3: Dot multiplication\n",
    "\n",
    "We have two matrices:\n",
    "\n",
    "```py\n",
    "matrix1 = [[1,7,3],\n",
    " [4,5,2],\n",
    " [3,6,1]]\n",
    "matrix2 = [[5,4,1],\n",
    " [1,2,3],\n",
    " [4,5,2]]\n",
    "```\n",
    "\n",
    "A simple technique but expensive method for larger input datasets is using *for loops*. In this exercise, we will first use nested *for loops* to iterate through each row and column of the matrices, and then we will perform the same multiplication using NumPy."
   ]
  },
  {
   "cell_type": "code",
   "execution_count": 63,
   "id": "840e7d0e",
   "metadata": {},
   "outputs": [
    {
     "name": "stdout",
     "output_type": "stream",
     "text": [
      "[[24, 33, 28], [33, 36, 23], [25, 29, 23]]\n"
     ]
    }
   ],
   "source": [
    "# Using a for loop input two matrices of size n x m\n",
    "matrix1 = [[1,7,3],\n",
    " [4,5,2],\n",
    " [3,6,1]]\n",
    "matrix2 = [[5,4,1],\n",
    " [1,2,3],\n",
    " [4,5,2]]\n",
    " \n",
    "res = [[0 for x in range(3)] for y in range(3)]\n",
    " \n",
    "# Explicit for loops\n",
    "for i in range(len(matrix1)):\n",
    "    for j in range(len(matrix2[0])):\n",
    "        for k in range(len(matrix2)):\n",
    " \n",
    "            # Resulting matrix\n",
    "            res[i][j] += matrix1[i][k] * matrix2[k][j]\n",
    " \n",
    "print(res)"
   ]
  },
  {
   "cell_type": "code",
   "execution_count": 64,
   "id": "db6c3355",
   "metadata": {},
   "outputs": [
    {
     "name": "stdout",
     "output_type": "stream",
     "text": [
      "[[24 33 28]\n",
      " [33 36 23]\n",
      " [25 29 23]]\n"
     ]
    }
   ],
   "source": [
    "# Import libraries\n",
    "import numpy as np\n",
    " \n",
    "# Input two matrices\n",
    "A = np.array(matrix1)\n",
    "B = np.array(matrix2)\n",
    " \n",
    "# This will return dot product\n",
    "res = A.dot(B)\n",
    "\n",
    "# Print resulting matrix\n",
    "print(res)\n"
   ]
  },
  {
   "cell_type": "markdown",
   "id": "785f6c30",
   "metadata": {},
   "source": [
    "Source:\n",
    "\n",
    "https://www.youtube.com/channel/UCXq-PLvYAX-EufF5RAPihVg\n",
    "\n",
    "https://www.geeksforgeeks.org/\n",
    "\n",
    "https://medium.com/@seehleung/basic-calculus-explained-for-machine-learning-c7f642e7ced3\n",
    "\n",
    "https://blog.demir.io/understanding-gradient-descent-266fc3dcf02f"
   ]
  }
 ],
 "metadata": {
  "kernelspec": {
   "display_name": "Python 3",
   "language": "python",
   "name": "python3"
  },
  "language_info": {
   "codemirror_mode": {
    "name": "ipython",
    "version": 3
   },
   "file_extension": ".py",
   "mimetype": "text/x-python",
   "name": "python",
   "nbconvert_exporter": "python",
   "pygments_lexer": "ipython3",
   "version": "3.11.4"
  }
 },
 "nbformat": 4,
 "nbformat_minor": 5
}
